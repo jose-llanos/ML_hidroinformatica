{
 "cells": [
  {
   "cell_type": "markdown",
   "metadata": {},
   "source": [
    "## Ejercicio Práctico: K-means"
   ]
  },
  {
   "cell_type": "markdown",
   "metadata": {},
   "source": [
    "### Paso 1: Importar las librerias"
   ]
  },
  {
   "cell_type": "code",
   "execution_count": 1,
   "metadata": {},
   "outputs": [],
   "source": [
    "# Libreria para operaciones matemáticas o estadísticas\n",
    "import numpy as np\n",
    "# Libreria para el manejo de datos\n",
    "import pandas as pd\n",
    "# Librerías para gráficas\n",
    "import seaborn as sb\n",
    "import matplotlib.pyplot as plt\n",
    "# Librería para K-Means\n",
    "from sklearn.cluster import KMeans"
   ]
  },
  {
   "cell_type": "markdown",
   "metadata": {},
   "source": [
    "### Paso 2: Cargar los datos en un DataFrame"
   ]
  },
  {
   "cell_type": "code",
   "execution_count": 2,
   "metadata": {},
   "outputs": [
    {
     "data": {
      "text/html": [
       "<div>\n",
       "<style scoped>\n",
       "    .dataframe tbody tr th:only-of-type {\n",
       "        vertical-align: middle;\n",
       "    }\n",
       "\n",
       "    .dataframe tbody tr th {\n",
       "        vertical-align: top;\n",
       "    }\n",
       "\n",
       "    .dataframe thead th {\n",
       "        text-align: right;\n",
       "    }\n",
       "</style>\n",
       "<table border=\"1\" class=\"dataframe\">\n",
       "  <thead>\n",
       "    <tr style=\"text-align: right;\">\n",
       "      <th></th>\n",
       "      <th>Aquifer</th>\n",
       "      <th>Conductivity [µS/cm]</th>\n",
       "      <th>TDS [mg/l]</th>\n",
       "      <th>Na+ [mg/l]</th>\n",
       "      <th>K+ [mg/l]</th>\n",
       "      <th>Ca 2+ [mg/l]</th>\n",
       "      <th>Mg 2+ [mg/l]</th>\n",
       "      <th>Cl- [mg/l]</th>\n",
       "      <th>SO4 2- [mg/l]</th>\n",
       "      <th>Cu 2+ [mg/l]</th>\n",
       "    </tr>\n",
       "  </thead>\n",
       "  <tbody>\n",
       "    <tr>\n",
       "      <th>0</th>\n",
       "      <td>Ca2+Na</td>\n",
       "      <td>165.0</td>\n",
       "      <td>131600.0</td>\n",
       "      <td>41530.0</td>\n",
       "      <td>194.0</td>\n",
       "      <td>2592.0</td>\n",
       "      <td>775.0</td>\n",
       "      <td>70781.0</td>\n",
       "      <td>4186.0</td>\n",
       "      <td>0.020</td>\n",
       "    </tr>\n",
       "    <tr>\n",
       "      <th>1</th>\n",
       "      <td>Ca2</td>\n",
       "      <td>107.4</td>\n",
       "      <td>93500.0</td>\n",
       "      <td>28900.0</td>\n",
       "      <td>135.0</td>\n",
       "      <td>2764.0</td>\n",
       "      <td>663.0</td>\n",
       "      <td>48215.0</td>\n",
       "      <td>3968.0</td>\n",
       "      <td>0.020</td>\n",
       "    </tr>\n",
       "    <tr>\n",
       "      <th>2</th>\n",
       "      <td>Ca2+Na</td>\n",
       "      <td>230.4</td>\n",
       "      <td>206700.0</td>\n",
       "      <td>72125.0</td>\n",
       "      <td>177.0</td>\n",
       "      <td>2573.0</td>\n",
       "      <td>866.0</td>\n",
       "      <td>110726.0</td>\n",
       "      <td>3593.0</td>\n",
       "      <td>1.150</td>\n",
       "    </tr>\n",
       "    <tr>\n",
       "      <th>3</th>\n",
       "      <td>Ca2+Na</td>\n",
       "      <td>229.0</td>\n",
       "      <td>193500.0</td>\n",
       "      <td>65600.0</td>\n",
       "      <td>129.0</td>\n",
       "      <td>2596.0</td>\n",
       "      <td>652.0</td>\n",
       "      <td>109325.0</td>\n",
       "      <td>3623.0</td>\n",
       "      <td>4.990</td>\n",
       "    </tr>\n",
       "    <tr>\n",
       "      <th>4</th>\n",
       "      <td>Ca2 brine</td>\n",
       "      <td>336.0</td>\n",
       "      <td>293850.0</td>\n",
       "      <td>110000.0</td>\n",
       "      <td>199.0</td>\n",
       "      <td>2076.0</td>\n",
       "      <td>753.0</td>\n",
       "      <td>175200.0</td>\n",
       "      <td>3358.0</td>\n",
       "      <td>0.020</td>\n",
       "    </tr>\n",
       "    <tr>\n",
       "      <th>5</th>\n",
       "      <td>Ca2+Na</td>\n",
       "      <td>173.0</td>\n",
       "      <td>141550.0</td>\n",
       "      <td>48300.0</td>\n",
       "      <td>134.0</td>\n",
       "      <td>2854.0</td>\n",
       "      <td>695.0</td>\n",
       "      <td>80806.0</td>\n",
       "      <td>4794.0</td>\n",
       "      <td>0.048</td>\n",
       "    </tr>\n",
       "    <tr>\n",
       "      <th>6</th>\n",
       "      <td>Ca2+Na</td>\n",
       "      <td>279.0</td>\n",
       "      <td>276850.0</td>\n",
       "      <td>84600.0</td>\n",
       "      <td>1320.0</td>\n",
       "      <td>1940.0</td>\n",
       "      <td>114.2</td>\n",
       "      <td>135140.0</td>\n",
       "      <td>5609.0</td>\n",
       "      <td>0.023</td>\n",
       "    </tr>\n",
       "    <tr>\n",
       "      <th>7</th>\n",
       "      <td>Ca2+Na</td>\n",
       "      <td>171.0</td>\n",
       "      <td>133350.0</td>\n",
       "      <td>48190.0</td>\n",
       "      <td>109.0</td>\n",
       "      <td>2595.0</td>\n",
       "      <td>1144.0</td>\n",
       "      <td>75929.0</td>\n",
       "      <td>4261.0</td>\n",
       "      <td>0.020</td>\n",
       "    </tr>\n",
       "    <tr>\n",
       "      <th>8</th>\n",
       "      <td>Ca2</td>\n",
       "      <td>97.5</td>\n",
       "      <td>83250.0</td>\n",
       "      <td>25300.0</td>\n",
       "      <td>96.8</td>\n",
       "      <td>2295.0</td>\n",
       "      <td>1130.0</td>\n",
       "      <td>43746.0</td>\n",
       "      <td>3871.0</td>\n",
       "      <td>0.020</td>\n",
       "    </tr>\n",
       "    <tr>\n",
       "      <th>9</th>\n",
       "      <td>Ca2+Na</td>\n",
       "      <td>355.0</td>\n",
       "      <td>232300.0</td>\n",
       "      <td>86300.0</td>\n",
       "      <td>128.0</td>\n",
       "      <td>2475.0</td>\n",
       "      <td>667.0</td>\n",
       "      <td>130961.0</td>\n",
       "      <td>4089.0</td>\n",
       "      <td>0.020</td>\n",
       "    </tr>\n",
       "  </tbody>\n",
       "</table>\n",
       "</div>"
      ],
      "text/plain": [
       "     Aquifer  Conductivity [µS/cm] TDS [mg/l] Na+ [mg/l]  K+ [mg/l]  \\\n",
       "0     Ca2+Na                 165.0   131600.0    41530.0      194.0   \n",
       "1        Ca2                 107.4    93500.0    28900.0      135.0   \n",
       "2     Ca2+Na                 230.4   206700.0    72125.0      177.0   \n",
       "3     Ca2+Na                 229.0   193500.0    65600.0      129.0   \n",
       "4  Ca2 brine                 336.0   293850.0   110000.0      199.0   \n",
       "5     Ca2+Na                 173.0   141550.0    48300.0      134.0   \n",
       "6     Ca2+Na                 279.0   276850.0    84600.0     1320.0   \n",
       "7     Ca2+Na                 171.0   133350.0    48190.0      109.0   \n",
       "8        Ca2                  97.5    83250.0    25300.0       96.8   \n",
       "9     Ca2+Na                 355.0   232300.0    86300.0      128.0   \n",
       "\n",
       "  Ca 2+ [mg/l] Mg 2+ [mg/l]  Cl- [mg/l] SO4 2- [mg/l]  Cu 2+ [mg/l]  \n",
       "0       2592.0        775.0     70781.0        4186.0         0.020  \n",
       "1       2764.0        663.0     48215.0        3968.0         0.020  \n",
       "2       2573.0        866.0    110726.0        3593.0         1.150  \n",
       "3       2596.0        652.0    109325.0        3623.0         4.990  \n",
       "4       2076.0        753.0    175200.0        3358.0         0.020  \n",
       "5       2854.0        695.0     80806.0        4794.0         0.048  \n",
       "6       1940.0        114.2    135140.0        5609.0         0.023  \n",
       "7       2595.0       1144.0     75929.0        4261.0         0.020  \n",
       "8       2295.0       1130.0     43746.0        3871.0         0.020  \n",
       "9       2475.0        667.0    130961.0        4089.0         0.020  "
      ]
     },
     "execution_count": 2,
     "metadata": {},
     "output_type": "execute_result"
    }
   ],
   "source": [
    "# Se cargan los datos de entrada\n",
    "data = pd.read_csv(\"data/3.3-water_chem_analysis.csv\", sep=\";\")\n",
    "# Se observa los primeros 10 registros del DataFrame\n",
    "data.head(10)"
   ]
  },
  {
   "cell_type": "markdown",
   "metadata": {},
   "source": [
    "### Paso 3: Preprocesamiento de los datos"
   ]
  },
  {
   "cell_type": "code",
   "execution_count": 3,
   "metadata": {},
   "outputs": [
    {
     "name": "stdout",
     "output_type": "stream",
     "text": [
      "Columna           Cantidad NaN\n",
      "Aquifer                   0\n",
      "Conductivity [µS/cm]    109\n",
      "TDS [mg/l]                5\n",
      "Na+ [mg/l]              107\n",
      "K+ [mg/l]               171\n",
      "Ca 2+ [mg/l]            106\n",
      "Mg 2+ [mg/l]            107\n",
      "Cl- [mg/l]                1\n",
      "SO4 2- [mg/l]             9\n",
      "Cu 2+ [mg/l]            175\n",
      "dtype: int64\n",
      "(328, 10)\n"
     ]
    }
   ],
   "source": [
    "# Se buscan registros NaN para eliminarlos\n",
    "print('Columna           Cantidad NaN')\n",
    "print(data.isnull().sum(axis = 0))\n",
    "print(data.shape)"
   ]
  },
  {
   "cell_type": "code",
   "execution_count": 4,
   "metadata": {},
   "outputs": [
    {
     "data": {
      "text/plain": [
       "(148, 10)"
      ]
     },
     "execution_count": 4,
     "metadata": {},
     "output_type": "execute_result"
    }
   ],
   "source": [
    "# Se eliminan los registros NaN\n",
    "data = data.dropna()\n",
    "data.shape"
   ]
  },
  {
   "cell_type": "code",
   "execution_count": 5,
   "metadata": {},
   "outputs": [
    {
     "data": {
      "text/html": [
       "<div>\n",
       "<style scoped>\n",
       "    .dataframe tbody tr th:only-of-type {\n",
       "        vertical-align: middle;\n",
       "    }\n",
       "\n",
       "    .dataframe tbody tr th {\n",
       "        vertical-align: top;\n",
       "    }\n",
       "\n",
       "    .dataframe thead th {\n",
       "        text-align: right;\n",
       "    }\n",
       "</style>\n",
       "<table border=\"1\" class=\"dataframe\">\n",
       "  <thead>\n",
       "    <tr style=\"text-align: right;\">\n",
       "      <th></th>\n",
       "      <th>Aquifer</th>\n",
       "      <th>Conductivity [µS/cm]</th>\n",
       "      <th>TDS [mg/l]</th>\n",
       "      <th>Na+ [mg/l]</th>\n",
       "      <th>K+ [mg/l]</th>\n",
       "      <th>Ca 2+ [mg/l]</th>\n",
       "      <th>Mg 2+ [mg/l]</th>\n",
       "      <th>Cl- [mg/l]</th>\n",
       "      <th>SO4 2- [mg/l]</th>\n",
       "      <th>Cu 2+ [mg/l]</th>\n",
       "    </tr>\n",
       "  </thead>\n",
       "  <tbody>\n",
       "    <tr>\n",
       "      <th>0</th>\n",
       "      <td>Ca2+Na</td>\n",
       "      <td>165.0</td>\n",
       "      <td>131600.0</td>\n",
       "      <td>41530.0</td>\n",
       "      <td>194.0</td>\n",
       "      <td>2592.0</td>\n",
       "      <td>775.0</td>\n",
       "      <td>70781.0</td>\n",
       "      <td>4186.0</td>\n",
       "      <td>0.02</td>\n",
       "    </tr>\n",
       "    <tr>\n",
       "      <th>1</th>\n",
       "      <td>Ca2</td>\n",
       "      <td>107.4</td>\n",
       "      <td>93500.0</td>\n",
       "      <td>28900.0</td>\n",
       "      <td>135.0</td>\n",
       "      <td>2764.0</td>\n",
       "      <td>663.0</td>\n",
       "      <td>48215.0</td>\n",
       "      <td>3968.0</td>\n",
       "      <td>0.02</td>\n",
       "    </tr>\n",
       "    <tr>\n",
       "      <th>2</th>\n",
       "      <td>Ca2+Na</td>\n",
       "      <td>230.4</td>\n",
       "      <td>206700.0</td>\n",
       "      <td>72125.0</td>\n",
       "      <td>177.0</td>\n",
       "      <td>2573.0</td>\n",
       "      <td>866.0</td>\n",
       "      <td>110726.0</td>\n",
       "      <td>3593.0</td>\n",
       "      <td>1.15</td>\n",
       "    </tr>\n",
       "    <tr>\n",
       "      <th>3</th>\n",
       "      <td>Ca2+Na</td>\n",
       "      <td>229.0</td>\n",
       "      <td>193500.0</td>\n",
       "      <td>65600.0</td>\n",
       "      <td>129.0</td>\n",
       "      <td>2596.0</td>\n",
       "      <td>652.0</td>\n",
       "      <td>109325.0</td>\n",
       "      <td>3623.0</td>\n",
       "      <td>4.99</td>\n",
       "    </tr>\n",
       "    <tr>\n",
       "      <th>4</th>\n",
       "      <td>Ca2 brine</td>\n",
       "      <td>336.0</td>\n",
       "      <td>293850.0</td>\n",
       "      <td>110000.0</td>\n",
       "      <td>199.0</td>\n",
       "      <td>2076.0</td>\n",
       "      <td>753.0</td>\n",
       "      <td>175200.0</td>\n",
       "      <td>3358.0</td>\n",
       "      <td>0.02</td>\n",
       "    </tr>\n",
       "  </tbody>\n",
       "</table>\n",
       "</div>"
      ],
      "text/plain": [
       "     Aquifer  Conductivity [µS/cm] TDS [mg/l] Na+ [mg/l]  K+ [mg/l]  \\\n",
       "0     Ca2+Na                 165.0   131600.0    41530.0      194.0   \n",
       "1        Ca2                 107.4    93500.0    28900.0      135.0   \n",
       "2     Ca2+Na                 230.4   206700.0    72125.0      177.0   \n",
       "3     Ca2+Na                 229.0   193500.0    65600.0      129.0   \n",
       "4  Ca2 brine                 336.0   293850.0   110000.0      199.0   \n",
       "\n",
       "  Ca 2+ [mg/l] Mg 2+ [mg/l]  Cl- [mg/l] SO4 2- [mg/l]  Cu 2+ [mg/l]  \n",
       "0       2592.0        775.0     70781.0        4186.0          0.02  \n",
       "1       2764.0        663.0     48215.0        3968.0          0.02  \n",
       "2       2573.0        866.0    110726.0        3593.0          1.15  \n",
       "3       2596.0        652.0    109325.0        3623.0          4.99  \n",
       "4       2076.0        753.0    175200.0        3358.0          0.02  "
      ]
     },
     "execution_count": 5,
     "metadata": {},
     "output_type": "execute_result"
    }
   ],
   "source": [
    "# Se observan los primeros registros\n",
    "data.head()"
   ]
  },
  {
   "cell_type": "code",
   "execution_count": 6,
   "metadata": {},
   "outputs": [
    {
     "name": "stdout",
     "output_type": "stream",
     "text": [
      "<class 'pandas.core.frame.DataFrame'>\n",
      "Int64Index: 148 entries, 0 to 325\n",
      "Data columns (total 10 columns):\n",
      " #   Column                Non-Null Count  Dtype  \n",
      "---  ------                --------------  -----  \n",
      " 0   Aquifer               148 non-null    object \n",
      " 1   Conductivity [µS/cm]  148 non-null    float64\n",
      " 2   TDS [mg/l]            148 non-null    object \n",
      " 3   Na+ [mg/l]            148 non-null    object \n",
      " 4   K+ [mg/l]             148 non-null    float64\n",
      " 5   Ca 2+ [mg/l]          148 non-null    object \n",
      " 6   Mg 2+ [mg/l]          148 non-null    object \n",
      " 7   Cl- [mg/l]            148 non-null    float64\n",
      " 8   SO4 2- [mg/l]         148 non-null    object \n",
      " 9   Cu 2+ [mg/l]          148 non-null    float64\n",
      "dtypes: float64(4), object(6)\n",
      "memory usage: 12.7+ KB\n"
     ]
    }
   ],
   "source": [
    "# Se observan los tipos de datos para las columnas\n",
    "data.info()"
   ]
  },
  {
   "cell_type": "code",
   "execution_count": 7,
   "metadata": {},
   "outputs": [
    {
     "name": "stdout",
     "output_type": "stream",
     "text": [
      "<class 'pandas.core.frame.DataFrame'>\n",
      "Int64Index: 148 entries, 0 to 325\n",
      "Data columns (total 10 columns):\n",
      " #   Column                Non-Null Count  Dtype  \n",
      "---  ------                --------------  -----  \n",
      " 0   Aquifer               148 non-null    object \n",
      " 1   Conductivity [µS/cm]  148 non-null    float64\n",
      " 2   TDS [mg/l]            148 non-null    float64\n",
      " 3   Na+ [mg/l]            148 non-null    float64\n",
      " 4   K+ [mg/l]             148 non-null    float64\n",
      " 5   Ca 2+ [mg/l]          148 non-null    float64\n",
      " 6   Mg 2+ [mg/l]          148 non-null    float64\n",
      " 7   Cl- [mg/l]            148 non-null    float64\n",
      " 8   SO4 2- [mg/l]         148 non-null    float64\n",
      " 9   Cu 2+ [mg/l]          148 non-null    float64\n",
      "dtypes: float64(9), object(1)\n",
      "memory usage: 12.7+ KB\n"
     ]
    }
   ],
   "source": [
    "# Se convierten los tipos de datos para el agrupamiento\n",
    "data['TDS [mg/l]'] = data['TDS [mg/l]'].astype(float)\n",
    "data['Na+ [mg/l]'] = data['Na+ [mg/l]'].astype(float)\n",
    "data['Ca 2+ [mg/l]'] = data['Ca 2+ [mg/l]'].astype(float)\n",
    "data['Mg 2+ [mg/l]'] = data['Mg 2+ [mg/l]'].astype(float)\n",
    "data['SO4 2- [mg/l]'] = data['SO4 2- [mg/l]'].astype(float)\n",
    "\n",
    "data.info()"
   ]
  },
  {
   "cell_type": "code",
   "execution_count": 8,
   "metadata": {},
   "outputs": [
    {
     "data": {
      "text/html": [
       "<div>\n",
       "<style scoped>\n",
       "    .dataframe tbody tr th:only-of-type {\n",
       "        vertical-align: middle;\n",
       "    }\n",
       "\n",
       "    .dataframe tbody tr th {\n",
       "        vertical-align: top;\n",
       "    }\n",
       "\n",
       "    .dataframe thead th {\n",
       "        text-align: right;\n",
       "    }\n",
       "</style>\n",
       "<table border=\"1\" class=\"dataframe\">\n",
       "  <thead>\n",
       "    <tr style=\"text-align: right;\">\n",
       "      <th></th>\n",
       "      <th>Conductivity [µS/cm]</th>\n",
       "      <th>TDS [mg/l]</th>\n",
       "      <th>Na+ [mg/l]</th>\n",
       "      <th>K+ [mg/l]</th>\n",
       "      <th>Ca 2+ [mg/l]</th>\n",
       "      <th>Mg 2+ [mg/l]</th>\n",
       "      <th>Cl- [mg/l]</th>\n",
       "      <th>SO4 2- [mg/l]</th>\n",
       "      <th>Cu 2+ [mg/l]</th>\n",
       "    </tr>\n",
       "  </thead>\n",
       "  <tbody>\n",
       "    <tr>\n",
       "      <th>count</th>\n",
       "      <td>148.000000</td>\n",
       "      <td>148.000000</td>\n",
       "      <td>148.000000</td>\n",
       "      <td>148.000000</td>\n",
       "      <td>148.000000</td>\n",
       "      <td>148.000000</td>\n",
       "      <td>148.000000</td>\n",
       "      <td>148.000000</td>\n",
       "      <td>148.000000</td>\n",
       "    </tr>\n",
       "    <tr>\n",
       "      <th>mean</th>\n",
       "      <td>257.241081</td>\n",
       "      <td>219387.789865</td>\n",
       "      <td>81290.559189</td>\n",
       "      <td>222.731149</td>\n",
       "      <td>2434.493784</td>\n",
       "      <td>644.382500</td>\n",
       "      <td>128725.441703</td>\n",
       "      <td>3393.828311</td>\n",
       "      <td>1.122635</td>\n",
       "    </tr>\n",
       "    <tr>\n",
       "      <th>std</th>\n",
       "      <td>124.880290</td>\n",
       "      <td>109267.338811</td>\n",
       "      <td>43656.524394</td>\n",
       "      <td>168.784847</td>\n",
       "      <td>487.193846</td>\n",
       "      <td>159.736247</td>\n",
       "      <td>66252.448611</td>\n",
       "      <td>769.056196</td>\n",
       "      <td>2.047089</td>\n",
       "    </tr>\n",
       "    <tr>\n",
       "      <th>min</th>\n",
       "      <td>5.520000</td>\n",
       "      <td>1108.600000</td>\n",
       "      <td>77.760000</td>\n",
       "      <td>25.390000</td>\n",
       "      <td>56.180000</td>\n",
       "      <td>0.240000</td>\n",
       "      <td>87.772000</td>\n",
       "      <td>7.490000</td>\n",
       "      <td>0.001000</td>\n",
       "    </tr>\n",
       "    <tr>\n",
       "      <th>25%</th>\n",
       "      <td>119.550000</td>\n",
       "      <td>109075.000000</td>\n",
       "      <td>35600.000000</td>\n",
       "      <td>126.750000</td>\n",
       "      <td>2275.000000</td>\n",
       "      <td>583.000000</td>\n",
       "      <td>59198.250000</td>\n",
       "      <td>3014.000000</td>\n",
       "      <td>0.020000</td>\n",
       "    </tr>\n",
       "    <tr>\n",
       "      <th>50%</th>\n",
       "      <td>302.500000</td>\n",
       "      <td>261825.000000</td>\n",
       "      <td>89650.000000</td>\n",
       "      <td>193.500000</td>\n",
       "      <td>2446.500000</td>\n",
       "      <td>649.500000</td>\n",
       "      <td>147575.000000</td>\n",
       "      <td>3322.000000</td>\n",
       "      <td>0.063000</td>\n",
       "    </tr>\n",
       "    <tr>\n",
       "      <th>75%</th>\n",
       "      <td>373.250000</td>\n",
       "      <td>325150.000000</td>\n",
       "      <td>125000.000000</td>\n",
       "      <td>262.750000</td>\n",
       "      <td>2625.750000</td>\n",
       "      <td>704.250000</td>\n",
       "      <td>191065.500000</td>\n",
       "      <td>3858.500000</td>\n",
       "      <td>1.267500</td>\n",
       "    </tr>\n",
       "    <tr>\n",
       "      <th>max</th>\n",
       "      <td>469.000000</td>\n",
       "      <td>334050.000000</td>\n",
       "      <td>139000.000000</td>\n",
       "      <td>1320.000000</td>\n",
       "      <td>3992.000000</td>\n",
       "      <td>1144.000000</td>\n",
       "      <td>204728.000000</td>\n",
       "      <td>5609.000000</td>\n",
       "      <td>10.200000</td>\n",
       "    </tr>\n",
       "  </tbody>\n",
       "</table>\n",
       "</div>"
      ],
      "text/plain": [
       "       Conductivity [µS/cm]     TDS [mg/l]     Na+ [mg/l]    K+ [mg/l]  \\\n",
       "count            148.000000     148.000000     148.000000   148.000000   \n",
       "mean             257.241081  219387.789865   81290.559189   222.731149   \n",
       "std              124.880290  109267.338811   43656.524394   168.784847   \n",
       "min                5.520000    1108.600000      77.760000    25.390000   \n",
       "25%              119.550000  109075.000000   35600.000000   126.750000   \n",
       "50%              302.500000  261825.000000   89650.000000   193.500000   \n",
       "75%              373.250000  325150.000000  125000.000000   262.750000   \n",
       "max              469.000000  334050.000000  139000.000000  1320.000000   \n",
       "\n",
       "       Ca 2+ [mg/l]  Mg 2+ [mg/l]     Cl- [mg/l]  SO4 2- [mg/l]  Cu 2+ [mg/l]  \n",
       "count    148.000000    148.000000     148.000000     148.000000    148.000000  \n",
       "mean    2434.493784    644.382500  128725.441703    3393.828311      1.122635  \n",
       "std      487.193846    159.736247   66252.448611     769.056196      2.047089  \n",
       "min       56.180000      0.240000      87.772000       7.490000      0.001000  \n",
       "25%     2275.000000    583.000000   59198.250000    3014.000000      0.020000  \n",
       "50%     2446.500000    649.500000  147575.000000    3322.000000      0.063000  \n",
       "75%     2625.750000    704.250000  191065.500000    3858.500000      1.267500  \n",
       "max     3992.000000   1144.000000  204728.000000    5609.000000     10.200000  "
      ]
     },
     "execution_count": 8,
     "metadata": {},
     "output_type": "execute_result"
    }
   ],
   "source": [
    "# Se observan las estadísticas de los datos\n",
    "data.describe()"
   ]
  },
  {
   "cell_type": "markdown",
   "metadata": {},
   "source": [
    "### Paso 4: Agrupamiento con K-means"
   ]
  },
  {
   "cell_type": "code",
   "execution_count": 9,
   "metadata": {},
   "outputs": [
    {
     "data": {
      "image/png": "[encoded data removed]",
      "text/plain": [
       "<Figure size 432x288 with 1 Axes>"
      ]
     },
     "metadata": {
      "needs_background": "light"
     },
     "output_type": "display_data"
    }
   ],
   "source": [
    "# Se genera la gráfica de dispersión bidimensional\n",
    "plt.scatter(\n",
    "   # Se utilizaran estas columnas para el agrupamiento X ('Conductivity [µS/cm]') y Y ('TDS [mg/l]')\n",
    "   data['Conductivity [µS/cm]'], data['TDS [mg/l]'],\n",
    "   c='blue', marker='o',\n",
    "   edgecolor='black'\n",
    ")\n",
    "plt.title(\"Conductivity [µS/cm] VS TDS [mg/l]\")\n",
    "plt.xlabel('Conductivity [µS/cm]')\n",
    "plt.ylabel('TDS [mg/l]')\n",
    "plt.show()"
   ]
  },
  {
   "cell_type": "code",
   "execution_count": 44,
   "metadata": {},
   "outputs": [],
   "source": [
    "# Predicción con K-means, asumimos que el número de K es 3\n",
    "arreglo = []\n",
    "# Se crea un arreglo con los elementos de X ('Conductivity [µS/cm]') y Y ('TDS [mg/l]') para la predicción\n",
    "for i in range(len(data)):\n",
    "    arreglo.append([data.iloc[i]['Conductivity [µS/cm]'], data.iloc[i]['TDS [mg/l]']])\n",
    "\n",
    "# Se crea el modelo\n",
    "km = KMeans(\n",
    "    n_clusters=3, init='random',\n",
    "    n_init=10, max_iter=300, \n",
    "    tol=1e-04, random_state=0\n",
    ")\n",
    "\n",
    "# Se genera a predicción con los valores del arreglo\n",
    "y_predict = km.fit_predict(arreglo)"
   ]
  },
  {
   "cell_type": "code",
   "execution_count": 45,
   "metadata": {},
   "outputs": [
    {
     "data": {
      "image/png": "[encoded data removed]",
      "text/plain": [
       "<Figure size 432x288 with 1 Axes>"
      ]
     },
     "metadata": {
      "needs_background": "light"
     },
     "output_type": "display_data"
    }
   ],
   "source": [
    "# Se aplica la técnica del codo, para identificar el valor de K para la formación de los grupos\n",
    "distortions = []\n",
    "for i in range(1, 11):\n",
    "    km = KMeans(\n",
    "        n_clusters=i, init='random',\n",
    "        n_init=10, max_iter=300,\n",
    "        tol=1e-04, random_state=0\n",
    "    )\n",
    "    km.fit(arreglo)\n",
    "    distortions.append(km.inertia_)\n",
    "\n",
    "# Se genera la gráfica del codo\n",
    "plt.plot(range(1, 11), distortions, marker='o')\n",
    "plt.xlabel('Number of clusters')\n",
    "plt.ylabel('Distortion')\n",
    "plt.show()\n"
   ]
  },
  {
   "cell_type": "markdown",
   "metadata": {},
   "source": [
    "##### Nota: Con la técnica del codo se identificó que el mejor número de clusters es 4, porque a partir de este valor se empieza a estabilizar el valor de la distorsión"
   ]
  },
  {
   "cell_type": "code",
   "execution_count": 47,
   "metadata": {},
   "outputs": [
    {
     "name": "stdout",
     "output_type": "stream",
     "text": [
      "[0 1 0 0 3 0 2 0 1 2 1 1 0 0 1 0 2 0 1 1 1 2 0 3 3 1 3 1 1 1 1 0 0 1 3 3 3\n",
      " 3 3 3 3 3 3 3 1 1 1 1 1 1 1 1 3 3 3 3 3 3 3 3 3 3 3 3 3 3 3 3 3 3 3 3 3 3\n",
      " 3 1 1 1 2 1 0 2 0 0 0 0 3 2 2 2 0 0 3 3 3 3 3 2 1 1 3 3 3 3 3 3 3 3 3 3 3\n",
      " 3 3 3 3 3 3 3 3 3 3 3 2 3 3 0 1 1 1 1 1 1 1 2 1 0 0 1 0 3 0 2 2 1 1 1 1 1]\n"
     ]
    }
   ],
   "source": [
    "# Se genera de nuevo la predicción con el K identificado en la técnica del codo, para este caso 4.\n",
    "# Se crea el modelo\n",
    "km = KMeans(\n",
    "    n_clusters=4, init='random',\n",
    "    n_init=10, max_iter=300, \n",
    "    tol=1e-04, random_state=0\n",
    ")\n",
    "\n",
    "# Se genera a predicción con los valores del arreglo\n",
    "y_predict = km.fit_predict(arreglo)\n",
    "# Se imprime la predicción\n",
    "print(y_predict)"
   ]
  },
  {
   "cell_type": "code",
   "execution_count": 58,
   "metadata": {},
   "outputs": [
    {
     "data": {
      "image/png": "[encoded data removed]",
      "text/plain": [
       "<Figure size 432x288 with 1 Axes>"
      ]
     },
     "metadata": {
      "needs_background": "light"
     },
     "output_type": "display_data"
    }
   ],
   "source": [
    "# Se genera la gráfica de los grupos\n",
    "x = data['Conductivity [µS/cm]'].values\n",
    "y = data['TDS [mg/l]'].values\n",
    "labels = km.predict(arreglo)\n",
    "\n",
    "C = km.cluster_centers_\n",
    "colores=['orange','gray','blue','purple']\n",
    "asignar=[]\n",
    "for row in labels:\n",
    "    asignar.append(colores[row])\n",
    "\n",
    "plt.scatter(x, y, c=asignar, s=70)\n",
    "# Centroides de color rojo\n",
    "plt.scatter(C[:, 0], C[:, 1], marker='*', c='red', s=300)\n",
    "plt.show()\n"
   ]
  }
 ],
 "metadata": {
  "kernelspec": {
   "display_name": "Python 3",
   "language": "python",
   "name": "python3"
  },
  "language_info": {
   "codemirror_mode": {
    "name": "ipython",
    "version": 3
   },
   "file_extension": ".py",
   "mimetype": "text/x-python",
   "name": "python",
   "nbconvert_exporter": "python",
   "pygments_lexer": "ipython3",
   "version": "3.9.13"
  }
 },
 "nbformat": 4,
 "nbformat_minor": 4
}
