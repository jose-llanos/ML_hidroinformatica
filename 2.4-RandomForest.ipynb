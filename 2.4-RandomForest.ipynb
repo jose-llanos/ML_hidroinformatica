{
 "cells": [
  {
   "cell_type": "markdown",
   "metadata": {},
   "source": [
    "## Ejercicio Práctico: Random Forest"
   ]
  },
  {
   "cell_type": "markdown",
   "metadata": {},
   "source": [
    "### Paso 1: Importar las librerias"
   ]
  },
  {
   "cell_type": "code",
   "execution_count": 1,
   "metadata": {},
   "outputs": [],
   "source": [
    "# Libreria para operaciones matemáticas o estadísticas\n",
    "import numpy as np\n",
    "# Libreria para el manejo de datos\n",
    "import pandas as pd\n",
    "# Librerías para gráficas\n",
    "import seaborn as sb\n",
    "import matplotlib.pyplot as plt\n",
    "# Libreria para dividir los datos de entrenamiento y pruebas\n",
    "from sklearn.model_selection import train_test_split\n",
    "# Libreria para Random Forest\n",
    "from sklearn.ensemble import RandomForestRegressor\n",
    "# Libreria para las métricas\n",
    "from sklearn.metrics import r2_score, mean_squared_error, mean_absolute_error\n",
    "# Librerias para Hiperparámetros\n",
    "from sklearn.preprocessing import StandardScaler\n",
    "from sklearn.model_selection import RepeatedKFold\n",
    "#from sklearn.model_selection import GridSearchCV\n",
    "from sklearn.model_selection import RandomizedSearchCV"
   ]
  },
  {
   "cell_type": "markdown",
   "metadata": {},
   "source": [
    "### Paso 2: Cargar los datos a un DataFrame"
   ]
  },
  {
   "cell_type": "code",
   "execution_count": 2,
   "metadata": {},
   "outputs": [
    {
     "data": {
      "text/plain": [
       "(626, 9)"
      ]
     },
     "execution_count": 2,
     "metadata": {},
     "output_type": "execute_result"
    }
   ],
   "source": [
    "# Se cargan los datos de entrada\n",
    "data = pd.read_csv(\"data/2.3-glifosato.csv\", sep=\";\")\n",
    "# Se observa la cantidad de registros y columnas del archivo\n",
    "data.shape"
   ]
  },
  {
   "cell_type": "markdown",
   "metadata": {},
   "source": [
    "### Paso 3: Preprocesamiento de los datos"
   ]
  },
  {
   "cell_type": "code",
   "execution_count": 3,
   "metadata": {},
   "outputs": [
    {
     "name": "stdout",
     "output_type": "stream",
     "text": [
      "Columna           Cantidad NaN\n",
      "date(m/d/y)        0\n",
      "time               0\n",
      "day                0\n",
      "concentration      0\n",
      "chloride(mg/L)     0\n",
      "DO(mg/L)           0\n",
      "ORP(mV)            0\n",
      "pH                 0\n",
      "turbidity(NTU+)    0\n",
      "dtype: int64\n",
      "(626, 9)\n"
     ]
    }
   ],
   "source": [
    "# Se buscan registros NaN para eliminarlos\n",
    "print('Columna           Cantidad NaN')\n",
    "print(data.isnull().sum(axis = 0))\n",
    "print(data.shape)"
   ]
  },
  {
   "cell_type": "code",
   "execution_count": 4,
   "metadata": {},
   "outputs": [],
   "source": [
    "# Se eliminan los registros NaN del DataFrame\n",
    "#data = data.dropna()\n",
    "#data.shape"
   ]
  },
  {
   "cell_type": "markdown",
   "metadata": {},
   "source": [
    "##### Nota: Como no existen registros NaN no es necesario utilizar 'dropna()'"
   ]
  },
  {
   "cell_type": "code",
   "execution_count": 5,
   "metadata": {},
   "outputs": [
    {
     "data": {
      "text/html": [
       "<div>\n",
       "<style scoped>\n",
       "    .dataframe tbody tr th:only-of-type {\n",
       "        vertical-align: middle;\n",
       "    }\n",
       "\n",
       "    .dataframe tbody tr th {\n",
       "        vertical-align: top;\n",
       "    }\n",
       "\n",
       "    .dataframe thead th {\n",
       "        text-align: right;\n",
       "    }\n",
       "</style>\n",
       "<table border=\"1\" class=\"dataframe\">\n",
       "  <thead>\n",
       "    <tr style=\"text-align: right;\">\n",
       "      <th></th>\n",
       "      <th>date(m/d/y)</th>\n",
       "      <th>time</th>\n",
       "      <th>day</th>\n",
       "      <th>concentration</th>\n",
       "      <th>chloride(mg/L)</th>\n",
       "      <th>DO(mg/L)</th>\n",
       "      <th>ORP(mV)</th>\n",
       "      <th>pH</th>\n",
       "      <th>turbidity(NTU+)</th>\n",
       "    </tr>\n",
       "  </thead>\n",
       "  <tbody>\n",
       "    <tr>\n",
       "      <th>0</th>\n",
       "      <td>25/01/05</td>\n",
       "      <td>12.30</td>\n",
       "      <td>1</td>\n",
       "      <td>0.0</td>\n",
       "      <td>17.02</td>\n",
       "      <td>13.17</td>\n",
       "      <td>747</td>\n",
       "      <td>8.68</td>\n",
       "      <td>0.1</td>\n",
       "    </tr>\n",
       "    <tr>\n",
       "      <th>1</th>\n",
       "      <td>25/01/05</td>\n",
       "      <td>12.31</td>\n",
       "      <td>1</td>\n",
       "      <td>0.0</td>\n",
       "      <td>17.12</td>\n",
       "      <td>13.20</td>\n",
       "      <td>747</td>\n",
       "      <td>8.67</td>\n",
       "      <td>0.1</td>\n",
       "    </tr>\n",
       "    <tr>\n",
       "      <th>2</th>\n",
       "      <td>25/01/05</td>\n",
       "      <td>12.32</td>\n",
       "      <td>1</td>\n",
       "      <td>0.0</td>\n",
       "      <td>17.12</td>\n",
       "      <td>13.25</td>\n",
       "      <td>747</td>\n",
       "      <td>8.68</td>\n",
       "      <td>0.1</td>\n",
       "    </tr>\n",
       "    <tr>\n",
       "      <th>3</th>\n",
       "      <td>25/01/05</td>\n",
       "      <td>12.33</td>\n",
       "      <td>1</td>\n",
       "      <td>0.0</td>\n",
       "      <td>17.11</td>\n",
       "      <td>13.19</td>\n",
       "      <td>747</td>\n",
       "      <td>8.68</td>\n",
       "      <td>0.1</td>\n",
       "    </tr>\n",
       "    <tr>\n",
       "      <th>4</th>\n",
       "      <td>25/01/05</td>\n",
       "      <td>12.34</td>\n",
       "      <td>1</td>\n",
       "      <td>0.0</td>\n",
       "      <td>17.03</td>\n",
       "      <td>13.20</td>\n",
       "      <td>747</td>\n",
       "      <td>8.68</td>\n",
       "      <td>0.1</td>\n",
       "    </tr>\n",
       "  </tbody>\n",
       "</table>\n",
       "</div>"
      ],
      "text/plain": [
       "  date(m/d/y)   time  day  concentration  chloride(mg/L)  DO(mg/L)  ORP(mV)  \\\n",
       "0    25/01/05  12.30    1            0.0           17.02     13.17      747   \n",
       "1    25/01/05  12.31    1            0.0           17.12     13.20      747   \n",
       "2    25/01/05  12.32    1            0.0           17.12     13.25      747   \n",
       "3    25/01/05  12.33    1            0.0           17.11     13.19      747   \n",
       "4    25/01/05  12.34    1            0.0           17.03     13.20      747   \n",
       "\n",
       "     pH  turbidity(NTU+)  \n",
       "0  8.68              0.1  \n",
       "1  8.67              0.1  \n",
       "2  8.68              0.1  \n",
       "3  8.68              0.1  \n",
       "4  8.68              0.1  "
      ]
     },
     "execution_count": 5,
     "metadata": {},
     "output_type": "execute_result"
    }
   ],
   "source": [
    "# Se observan los primeros registros\n",
    "data.head()"
   ]
  },
  {
   "cell_type": "code",
   "execution_count": 6,
   "metadata": {},
   "outputs": [
    {
     "data": {
      "text/html": [
       "<div>\n",
       "<style scoped>\n",
       "    .dataframe tbody tr th:only-of-type {\n",
       "        vertical-align: middle;\n",
       "    }\n",
       "\n",
       "    .dataframe tbody tr th {\n",
       "        vertical-align: top;\n",
       "    }\n",
       "\n",
       "    .dataframe thead th {\n",
       "        text-align: right;\n",
       "    }\n",
       "</style>\n",
       "<table border=\"1\" class=\"dataframe\">\n",
       "  <thead>\n",
       "    <tr style=\"text-align: right;\">\n",
       "      <th></th>\n",
       "      <th>time</th>\n",
       "      <th>day</th>\n",
       "      <th>concentration</th>\n",
       "      <th>chloride(mg/L)</th>\n",
       "      <th>DO(mg/L)</th>\n",
       "      <th>ORP(mV)</th>\n",
       "      <th>pH</th>\n",
       "      <th>turbidity(NTU+)</th>\n",
       "    </tr>\n",
       "  </thead>\n",
       "  <tbody>\n",
       "    <tr>\n",
       "      <th>count</th>\n",
       "      <td>626.000000</td>\n",
       "      <td>626.000000</td>\n",
       "      <td>626.000000</td>\n",
       "      <td>626.000000</td>\n",
       "      <td>626.000000</td>\n",
       "      <td>626.000000</td>\n",
       "      <td>626.000000</td>\n",
       "      <td>626.000000</td>\n",
       "    </tr>\n",
       "    <tr>\n",
       "      <th>mean</th>\n",
       "      <td>13.869968</td>\n",
       "      <td>1.504792</td>\n",
       "      <td>1.161981</td>\n",
       "      <td>17.323882</td>\n",
       "      <td>13.348083</td>\n",
       "      <td>739.704473</td>\n",
       "      <td>8.652077</td>\n",
       "      <td>0.068371</td>\n",
       "    </tr>\n",
       "    <tr>\n",
       "      <th>std</th>\n",
       "      <td>1.857436</td>\n",
       "      <td>0.500377</td>\n",
       "      <td>1.164567</td>\n",
       "      <td>0.511636</td>\n",
       "      <td>0.133306</td>\n",
       "      <td>7.442400</td>\n",
       "      <td>0.091153</td>\n",
       "      <td>0.101617</td>\n",
       "    </tr>\n",
       "    <tr>\n",
       "      <th>min</th>\n",
       "      <td>10.050000</td>\n",
       "      <td>1.000000</td>\n",
       "      <td>0.000000</td>\n",
       "      <td>16.550000</td>\n",
       "      <td>12.980000</td>\n",
       "      <td>717.000000</td>\n",
       "      <td>8.240000</td>\n",
       "      <td>-0.100000</td>\n",
       "    </tr>\n",
       "    <tr>\n",
       "      <th>25%</th>\n",
       "      <td>12.562500</td>\n",
       "      <td>1.000000</td>\n",
       "      <td>0.000000</td>\n",
       "      <td>16.880000</td>\n",
       "      <td>13.280000</td>\n",
       "      <td>737.000000</td>\n",
       "      <td>8.650000</td>\n",
       "      <td>0.000000</td>\n",
       "    </tr>\n",
       "    <tr>\n",
       "      <th>50%</th>\n",
       "      <td>14.120000</td>\n",
       "      <td>2.000000</td>\n",
       "      <td>0.400000</td>\n",
       "      <td>17.105000</td>\n",
       "      <td>13.400000</td>\n",
       "      <td>740.000000</td>\n",
       "      <td>8.670000</td>\n",
       "      <td>0.000000</td>\n",
       "    </tr>\n",
       "    <tr>\n",
       "      <th>75%</th>\n",
       "      <td>15.287500</td>\n",
       "      <td>2.000000</td>\n",
       "      <td>1.500000</td>\n",
       "      <td>17.880000</td>\n",
       "      <td>13.450000</td>\n",
       "      <td>746.000000</td>\n",
       "      <td>8.700000</td>\n",
       "      <td>0.100000</td>\n",
       "    </tr>\n",
       "    <tr>\n",
       "      <th>max</th>\n",
       "      <td>17.300000</td>\n",
       "      <td>2.000000</td>\n",
       "      <td>3.000000</td>\n",
       "      <td>18.350000</td>\n",
       "      <td>13.530000</td>\n",
       "      <td>753.000000</td>\n",
       "      <td>8.730000</td>\n",
       "      <td>0.500000</td>\n",
       "    </tr>\n",
       "  </tbody>\n",
       "</table>\n",
       "</div>"
      ],
      "text/plain": [
       "             time         day  concentration  chloride(mg/L)    DO(mg/L)  \\\n",
       "count  626.000000  626.000000     626.000000      626.000000  626.000000   \n",
       "mean    13.869968    1.504792       1.161981       17.323882   13.348083   \n",
       "std      1.857436    0.500377       1.164567        0.511636    0.133306   \n",
       "min     10.050000    1.000000       0.000000       16.550000   12.980000   \n",
       "25%     12.562500    1.000000       0.000000       16.880000   13.280000   \n",
       "50%     14.120000    2.000000       0.400000       17.105000   13.400000   \n",
       "75%     15.287500    2.000000       1.500000       17.880000   13.450000   \n",
       "max     17.300000    2.000000       3.000000       18.350000   13.530000   \n",
       "\n",
       "          ORP(mV)          pH  turbidity(NTU+)  \n",
       "count  626.000000  626.000000       626.000000  \n",
       "mean   739.704473    8.652077         0.068371  \n",
       "std      7.442400    0.091153         0.101617  \n",
       "min    717.000000    8.240000        -0.100000  \n",
       "25%    737.000000    8.650000         0.000000  \n",
       "50%    740.000000    8.670000         0.000000  \n",
       "75%    746.000000    8.700000         0.100000  \n",
       "max    753.000000    8.730000         0.500000  "
      ]
     },
     "execution_count": 6,
     "metadata": {},
     "output_type": "execute_result"
    }
   ],
   "source": [
    "# Se observan las estadísticas de los datos, para valores numéricos\n",
    "data.describe()"
   ]
  },
  {
   "cell_type": "code",
   "execution_count": 7,
   "metadata": {},
   "outputs": [
    {
     "name": "stderr",
     "output_type": "stream",
     "text": [
      "/var/folders/0m/xmkg_d4s05j9zcbpwwncd19w0000gn/T/ipykernel_14720/859772113.py:2: FutureWarning: In a future version of pandas all arguments of DataFrame.drop except for the argument 'labels' will be keyword-only.\n",
      "  data.drop(['time','day','concentration'], 1).hist()\n"
     ]
    },
    {
     "data": {
      "image/png": "[encoded data removed]",
      "text/plain": [
       "<Figure size 432x288 with 6 Axes>"
      ]
     },
     "metadata": {
      "needs_background": "light"
     },
     "output_type": "display_data"
    }
   ],
   "source": [
    "# Visualizo las características de la entrada en un histograma, sin las columnas: time, day, concentration\n",
    "data.drop(['time','day','concentration'], 1).hist()\n",
    "plt.rcParams['figure.figsize'] = (10,9)\n",
    "plt.show()"
   ]
  },
  {
   "cell_type": "markdown",
   "metadata": {},
   "source": [
    "### Paso 4: Predicción con mejores características y Random Forest"
   ]
  },
  {
   "cell_type": "code",
   "execution_count": 8,
   "metadata": {},
   "outputs": [
    {
     "name": "stdout",
     "output_type": "stream",
     "text": [
      "R2-árbol de regresión: 0.7783651082956048\n",
      "RMSE-árbol de regresión: 0.5638771703989697\n",
      "MAE-árbol de regresión: 0.29295007598784206\n"
     ]
    }
   ],
   "source": [
    "# Se seleccionan las mejores características por su peso: DO(mg/L), ORP(mV), pH, chloride(mg/L)\n",
    "features = ['DO(mg/L)', 'ORP(mV)', 'pH', 'chloride(mg/L)']                   \n",
    "X = data[features]\n",
    "# Variable Objetivo\n",
    "y = data['concentration']\n",
    "\n",
    "# Se dividen los datos para el entrenamiento (70% entrenamiento y 30% pruebas)\n",
    "X_train, X_test, y_train, y_test = train_test_split(X, y, train_size = 0.7, random_state = 1)\n",
    "\n",
    "# Se crea el modelo con Random Forest\n",
    "rfr = RandomForestRegressor() \n",
    "# Se entrena el modelo\n",
    "rfr.fit(X_train, y_train)\n",
    "# Se genera la predicción\n",
    "prediccion = rfr.predict(X = X_test)\n",
    "\n",
    "# Métricas\n",
    "# Se utiliza la métrica: R2\n",
    "print('R2-árbol de regresión:',  r2_score(y_test, prediccion))\n",
    "# Se utiliza la métrica: raíz del error cuadrático medio (rmse)\n",
    "rmse = mean_squared_error( y_true  = y_test, y_pred  = prediccion, squared = False)\n",
    "print('RMSE-árbol de regresión:', rmse)\n",
    "# Se utiliza la métrica: MAE\n",
    "mae = mean_absolute_error(y_test, prediccion)\n",
    "print('MAE-árbol de regresión:', mae)"
   ]
  },
  {
   "cell_type": "markdown",
   "metadata": {},
   "source": [
    "##### Nota: A partir de las mejores características se genera la predicción. El modelo alcanzó 0.77 para la métrica R2, pero se puede mejorar con Hiperparámetros"
   ]
  },
  {
   "cell_type": "markdown",
   "metadata": {},
   "source": [
    "### Paso 5: Hiperparámetros para Random Forest"
   ]
  },
  {
   "cell_type": "code",
   "execution_count": 9,
   "metadata": {},
   "outputs": [
    {
     "name": "stdout",
     "output_type": "stream",
     "text": [
      "Mejores Parametros (RandomSearch): RandomForestRegressor(max_depth=80, max_features=1.0, min_samples_split=5,\n",
      "                      n_estimators=60)\n",
      "-----------------------------------------------------------\n",
      "R2 = 0.79\n",
      "RMSE = 0.55\n",
      "MAE = 0.30\n"
     ]
    }
   ],
   "source": [
    "# RamdomForestRegressor: Ajuste Hiperparámetros (Random Search)\n",
    "scaler = StandardScaler()\n",
    "X_train = scaler.fit_transform(X_train)\n",
    "X_test = scaler.transform(X_test)\n",
    "\n",
    "rfr = RandomForestRegressor()\n",
    "\n",
    "# Número de árboles en un bosque aleatorio\n",
    "n_estimators = [int(x) for x in np.linspace(start=20, stop=200, num = 10)]\n",
    "# Número de características a considerar en cada división\n",
    "max_features = [1.0]\n",
    "# Número máximo de niveles en el árbol\n",
    "max_depth = [int(x) for x in np.linspace(10, 110, num = 11)]\n",
    "max_depth.append(None)\n",
    "# Número mínimo de muestras requeridas para dividir un nodo\n",
    "min_samples_split = [2, 5, 10, 15, 20]\n",
    "# Número mínimo de muestras requeridas en cada nodo hoja\n",
    "min_samples_leaf = [1, 2, 4, 6]\n",
    "# Método de selección de muestras para entrenar cada árbol \n",
    "bootstrap = [True, False]\n",
    "grid = dict(n_estimators=n_estimators,\n",
    "            max_features=max_features,\n",
    "            max_depth=max_depth,\n",
    "            min_samples_split=min_samples_split,\n",
    "            min_samples_leaf=min_samples_leaf,\n",
    "            bootstrap=bootstrap)\n",
    "cvFold = RepeatedKFold(n_splits=10, n_repeats=3, random_state=1)\n",
    "# Hiperparámatros con Random Search\n",
    "randomSearch = RandomizedSearchCV(estimator= rfr,\n",
    "                                  n_jobs=-1,\n",
    "                                  cv=cvFold,\n",
    "                                  param_distributions=grid,\n",
    "                                  scoring=\"neg_mean_squared_error\")\n",
    "searchResults = randomSearch.fit(X_train, y_train.ravel())\n",
    "\n",
    "\n",
    "# Se extraen las mejores características para evaluar el modelo\n",
    "bestModel = searchResults.best_estimator_\n",
    "\n",
    "print(\"Mejores Parametros (RandomSearch):\", bestModel)\n",
    "print(\"-----------------------------------------------------------\")\n",
    "\n",
    "# Se crea un objeto con los mejores ajustes de Hiperparámetros\n",
    "RFR_AH = bestModel\n",
    "\n",
    "# Se entrena el modelo\n",
    "RFR_AH.fit(X_train, y_train)\n",
    "\n",
    "# Se entrena el modelo con los mejores parámetros\n",
    "predictRFR_AH = RFR_AH.predict(X = X_test)\n",
    "\n",
    "#R2\n",
    "r2RFR_AH= r2_score(y_test, predictRFR_AH)\n",
    "#RMSE\n",
    "rmseRFR_AH = mean_squared_error(y_true = y_test, y_pred = predictRFR_AH, squared=False)\n",
    "#MAE\n",
    "maeRFR_AH = mean_absolute_error(y_test, predictRFR_AH)\n",
    "\n",
    "print('R2 = %.2f' % r2RFR_AH)\n",
    "print('RMSE = %.2f' % rmseRFR_AH)\n",
    "print('MAE = %.2f' % maeRFR_AH)"
   ]
  },
  {
   "cell_type": "markdown",
   "metadata": {},
   "source": [
    "##### Nota: Al aplicar Hiperparámetros el modelo mejoró en 2% en la métrica R2 al pasar del 0.77 a 0.79."
   ]
  }
 ],
 "metadata": {
  "kernelspec": {
   "display_name": "Python 3",
   "language": "python",
   "name": "python3"
  },
  "language_info": {
   "codemirror_mode": {
    "name": "ipython",
    "version": 3
   },
   "file_extension": ".py",
   "mimetype": "text/x-python",
   "name": "python",
   "nbconvert_exporter": "python",
   "pygments_lexer": "ipython3",
   "version": "3.9.13"
  }
 },
 "nbformat": 4,
 "nbformat_minor": 4
}
