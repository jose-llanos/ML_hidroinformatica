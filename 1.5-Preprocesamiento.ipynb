{
 "cells": [
  {
   "cell_type": "markdown",
   "metadata": {},
   "source": [
    "## Preprocesamiento\n",
    "\n",
    "Ejemplo tomado de: https://www.jacobsoft.com.mx/es_mx/pre-procesamiento-de-datos-con-python/\n",
    "\n"
   ]
  },
  {
   "cell_type": "markdown",
   "metadata": {},
   "source": [
    "### Paso 1: Importar las librerias"
   ]
  },
  {
   "cell_type": "code",
   "execution_count": 1,
   "metadata": {},
   "outputs": [],
   "source": [
    "# Libreria para operaciones matemáticas o estadísticas\n",
    "import numpy as np\n",
    "# Libreria para manejo de datos\n",
    "import pandas as pd\n",
    "# Libreria para graficas\n",
    "import matplotlib.pyplot as plt\n",
    "# Libreria para tareas de procesamiento\n",
    "from sklearn.preprocessing import LabelEncoder\n",
    "# Libreria para transformación de escalas\n",
    "from sklearn.preprocessing import StandardScaler"
   ]
  },
  {
   "cell_type": "markdown",
   "metadata": {},
   "source": [
    "### Paso 2: Cargar los datos a un DataFrame"
   ]
  },
  {
   "cell_type": "code",
   "execution_count": 2,
   "metadata": {},
   "outputs": [
    {
     "data": {
      "text/html": [
       "<div>\n",
       "<style scoped>\n",
       "    .dataframe tbody tr th:only-of-type {\n",
       "        vertical-align: middle;\n",
       "    }\n",
       "\n",
       "    .dataframe tbody tr th {\n",
       "        vertical-align: top;\n",
       "    }\n",
       "\n",
       "    .dataframe thead th {\n",
       "        text-align: right;\n",
       "    }\n",
       "</style>\n",
       "<table border=\"1\" class=\"dataframe\">\n",
       "  <thead>\n",
       "    <tr style=\"text-align: right;\">\n",
       "      <th></th>\n",
       "      <th>No</th>\n",
       "      <th>País</th>\n",
       "      <th>Edad</th>\n",
       "      <th>Salario</th>\n",
       "      <th>Compra</th>\n",
       "    </tr>\n",
       "  </thead>\n",
       "  <tbody>\n",
       "    <tr>\n",
       "      <th>0</th>\n",
       "      <td>1</td>\n",
       "      <td>Francia</td>\n",
       "      <td>44.0</td>\n",
       "      <td>72000.0</td>\n",
       "      <td>No</td>\n",
       "    </tr>\n",
       "    <tr>\n",
       "      <th>1</th>\n",
       "      <td>2</td>\n",
       "      <td>España</td>\n",
       "      <td>27.0</td>\n",
       "      <td>48000.0</td>\n",
       "      <td>Si</td>\n",
       "    </tr>\n",
       "    <tr>\n",
       "      <th>2</th>\n",
       "      <td>3</td>\n",
       "      <td>Alemania</td>\n",
       "      <td>30.0</td>\n",
       "      <td>54000.0</td>\n",
       "      <td>No</td>\n",
       "    </tr>\n",
       "    <tr>\n",
       "      <th>3</th>\n",
       "      <td>4</td>\n",
       "      <td>España</td>\n",
       "      <td>38.0</td>\n",
       "      <td>61000.0</td>\n",
       "      <td>No</td>\n",
       "    </tr>\n",
       "    <tr>\n",
       "      <th>4</th>\n",
       "      <td>5</td>\n",
       "      <td>Alemania</td>\n",
       "      <td>40.0</td>\n",
       "      <td>NaN</td>\n",
       "      <td>Si</td>\n",
       "    </tr>\n",
       "    <tr>\n",
       "      <th>5</th>\n",
       "      <td>6</td>\n",
       "      <td>Francia</td>\n",
       "      <td>35.0</td>\n",
       "      <td>58000.0</td>\n",
       "      <td>Si</td>\n",
       "    </tr>\n",
       "    <tr>\n",
       "      <th>6</th>\n",
       "      <td>7</td>\n",
       "      <td>España</td>\n",
       "      <td>NaN</td>\n",
       "      <td>52000.0</td>\n",
       "      <td>No</td>\n",
       "    </tr>\n",
       "    <tr>\n",
       "      <th>7</th>\n",
       "      <td>8</td>\n",
       "      <td>Francia</td>\n",
       "      <td>48.0</td>\n",
       "      <td>79000.0</td>\n",
       "      <td>Si</td>\n",
       "    </tr>\n",
       "    <tr>\n",
       "      <th>8</th>\n",
       "      <td>9</td>\n",
       "      <td>Alemania</td>\n",
       "      <td>50.0</td>\n",
       "      <td>83000.0</td>\n",
       "      <td>No</td>\n",
       "    </tr>\n",
       "    <tr>\n",
       "      <th>9</th>\n",
       "      <td>10</td>\n",
       "      <td>Francia</td>\n",
       "      <td>37.0</td>\n",
       "      <td>67000.0</td>\n",
       "      <td>Si</td>\n",
       "    </tr>\n",
       "  </tbody>\n",
       "</table>\n",
       "</div>"
      ],
      "text/plain": [
       "   No      País  Edad  Salario Compra\n",
       "0   1   Francia  44.0  72000.0     No\n",
       "1   2    España  27.0  48000.0     Si\n",
       "2   3  Alemania  30.0  54000.0     No\n",
       "3   4    España  38.0  61000.0     No\n",
       "4   5  Alemania  40.0      NaN     Si\n",
       "5   6   Francia  35.0  58000.0     Si\n",
       "6   7    España   NaN  52000.0     No\n",
       "7   8   Francia  48.0  79000.0     Si\n",
       "8   9  Alemania  50.0  83000.0     No\n",
       "9  10   Francia  37.0  67000.0     Si"
      ]
     },
     "execution_count": 2,
     "metadata": {},
     "output_type": "execute_result"
    }
   ],
   "source": [
    "data = pd.read_csv('data/1.5-clientes.csv', sep=\";\")\n",
    "\n",
    "data"
   ]
  },
  {
   "cell_type": "markdown",
   "metadata": {},
   "source": [
    "### Paso 3: Separar las variables en dependientes e independientes"
   ]
  },
  {
   "cell_type": "code",
   "execution_count": 3,
   "metadata": {},
   "outputs": [
    {
     "name": "stdout",
     "output_type": "stream",
     "text": [
      "   No      País  Edad  Salario\n",
      "0   1   Francia  44.0  72000.0\n",
      "1   2    España  27.0  48000.0\n",
      "2   3  Alemania  30.0  54000.0\n",
      "3   4    España  38.0  61000.0\n",
      "4   5  Alemania  40.0      NaN\n",
      "5   6   Francia  35.0  58000.0\n",
      "6   7    España   NaN  52000.0\n",
      "7   8   Francia  48.0  79000.0\n",
      "8   9  Alemania  50.0  83000.0\n",
      "9  10   Francia  37.0  67000.0\n"
     ]
    }
   ],
   "source": [
    "# Variables dependientes\n",
    "x = data.iloc[:, :-1]\n",
    "print(x)"
   ]
  },
  {
   "cell_type": "code",
   "execution_count": 4,
   "metadata": {},
   "outputs": [
    {
     "name": "stdout",
     "output_type": "stream",
     "text": [
      "0    No\n",
      "1    Si\n",
      "2    No\n",
      "3    No\n",
      "4    Si\n",
      "5    Si\n",
      "6    No\n",
      "7    Si\n",
      "8    No\n",
      "9    Si\n",
      "Name: Compra, dtype: object\n"
     ]
    }
   ],
   "source": [
    "# Variables independientes\n",
    "y = data.iloc[:, 4]\n",
    "print(y)"
   ]
  },
  {
   "cell_type": "markdown",
   "metadata": {},
   "source": [
    "### Paso 4: Proprocesamiento de datos"
   ]
  },
  {
   "cell_type": "code",
   "execution_count": 5,
   "metadata": {},
   "outputs": [
    {
     "name": "stdout",
     "output_type": "stream",
     "text": [
      "<class 'pandas.core.frame.DataFrame'>\n",
      "RangeIndex: 10 entries, 0 to 9\n",
      "Data columns (total 5 columns):\n",
      " #   Column   Non-Null Count  Dtype  \n",
      "---  ------   --------------  -----  \n",
      " 0   No       10 non-null     int64  \n",
      " 1   País     10 non-null     object \n",
      " 2   Edad     9 non-null      float64\n",
      " 3   Salario  9 non-null      float64\n",
      " 4   Compra   10 non-null     object \n",
      "dtypes: float64(2), int64(1), object(2)\n",
      "memory usage: 528.0+ bytes\n"
     ]
    }
   ],
   "source": [
    "data.info()"
   ]
  },
  {
   "cell_type": "markdown",
   "metadata": {},
   "source": [
    "##### Nota: se observan datos faltantes, vamos a imputarlos con la media"
   ]
  },
  {
   "cell_type": "code",
   "execution_count": 6,
   "metadata": {},
   "outputs": [
    {
     "data": {
      "text/html": [
       "<div>\n",
       "<style scoped>\n",
       "    .dataframe tbody tr th:only-of-type {\n",
       "        vertical-align: middle;\n",
       "    }\n",
       "\n",
       "    .dataframe tbody tr th {\n",
       "        vertical-align: top;\n",
       "    }\n",
       "\n",
       "    .dataframe thead th {\n",
       "        text-align: right;\n",
       "    }\n",
       "</style>\n",
       "<table border=\"1\" class=\"dataframe\">\n",
       "  <thead>\n",
       "    <tr style=\"text-align: right;\">\n",
       "      <th></th>\n",
       "      <th>No</th>\n",
       "      <th>País</th>\n",
       "      <th>Edad</th>\n",
       "      <th>Salario</th>\n",
       "      <th>Compra</th>\n",
       "    </tr>\n",
       "  </thead>\n",
       "  <tbody>\n",
       "    <tr>\n",
       "      <th>0</th>\n",
       "      <td>1</td>\n",
       "      <td>Francia</td>\n",
       "      <td>44.000000</td>\n",
       "      <td>72000.000000</td>\n",
       "      <td>No</td>\n",
       "    </tr>\n",
       "    <tr>\n",
       "      <th>1</th>\n",
       "      <td>2</td>\n",
       "      <td>España</td>\n",
       "      <td>27.000000</td>\n",
       "      <td>48000.000000</td>\n",
       "      <td>Si</td>\n",
       "    </tr>\n",
       "    <tr>\n",
       "      <th>2</th>\n",
       "      <td>3</td>\n",
       "      <td>Alemania</td>\n",
       "      <td>30.000000</td>\n",
       "      <td>54000.000000</td>\n",
       "      <td>No</td>\n",
       "    </tr>\n",
       "    <tr>\n",
       "      <th>3</th>\n",
       "      <td>4</td>\n",
       "      <td>España</td>\n",
       "      <td>38.000000</td>\n",
       "      <td>61000.000000</td>\n",
       "      <td>No</td>\n",
       "    </tr>\n",
       "    <tr>\n",
       "      <th>4</th>\n",
       "      <td>5</td>\n",
       "      <td>Alemania</td>\n",
       "      <td>40.000000</td>\n",
       "      <td>63777.777778</td>\n",
       "      <td>Si</td>\n",
       "    </tr>\n",
       "    <tr>\n",
       "      <th>5</th>\n",
       "      <td>6</td>\n",
       "      <td>Francia</td>\n",
       "      <td>35.000000</td>\n",
       "      <td>58000.000000</td>\n",
       "      <td>Si</td>\n",
       "    </tr>\n",
       "    <tr>\n",
       "      <th>6</th>\n",
       "      <td>7</td>\n",
       "      <td>España</td>\n",
       "      <td>38.777778</td>\n",
       "      <td>52000.000000</td>\n",
       "      <td>No</td>\n",
       "    </tr>\n",
       "    <tr>\n",
       "      <th>7</th>\n",
       "      <td>8</td>\n",
       "      <td>Francia</td>\n",
       "      <td>48.000000</td>\n",
       "      <td>79000.000000</td>\n",
       "      <td>Si</td>\n",
       "    </tr>\n",
       "    <tr>\n",
       "      <th>8</th>\n",
       "      <td>9</td>\n",
       "      <td>Alemania</td>\n",
       "      <td>50.000000</td>\n",
       "      <td>83000.000000</td>\n",
       "      <td>No</td>\n",
       "    </tr>\n",
       "    <tr>\n",
       "      <th>9</th>\n",
       "      <td>10</td>\n",
       "      <td>Francia</td>\n",
       "      <td>37.000000</td>\n",
       "      <td>67000.000000</td>\n",
       "      <td>Si</td>\n",
       "    </tr>\n",
       "  </tbody>\n",
       "</table>\n",
       "</div>"
      ],
      "text/plain": [
       "   No      País       Edad       Salario Compra\n",
       "0   1   Francia  44.000000  72000.000000     No\n",
       "1   2    España  27.000000  48000.000000     Si\n",
       "2   3  Alemania  30.000000  54000.000000     No\n",
       "3   4    España  38.000000  61000.000000     No\n",
       "4   5  Alemania  40.000000  63777.777778     Si\n",
       "5   6   Francia  35.000000  58000.000000     Si\n",
       "6   7    España  38.777778  52000.000000     No\n",
       "7   8   Francia  48.000000  79000.000000     Si\n",
       "8   9  Alemania  50.000000  83000.000000     No\n",
       "9  10   Francia  37.000000  67000.000000     Si"
      ]
     },
     "execution_count": 6,
     "metadata": {},
     "output_type": "execute_result"
    }
   ],
   "source": [
    "# Se imputan los datos faltantes con el valor de la media de la columna correspondiente\n",
    "data['Edad'] = data['Edad'].fillna(data['Edad'].mean())\n",
    "data['Salario'] = data['Salario'].fillna(data['Salario'].mean())\n",
    "\n",
    "data"
   ]
  },
  {
   "cell_type": "code",
   "execution_count": 7,
   "metadata": {},
   "outputs": [
    {
     "name": "stdout",
     "output_type": "stream",
     "text": [
      "[0 1 0 0 1 1 0 1 0 1]\n",
      "-------------\n",
      "   No  País  Edad  Salario\n",
      "0   1     2  44.0  72000.0\n",
      "1   2     1  27.0  48000.0\n",
      "2   3     0  30.0  54000.0\n",
      "3   4     1  38.0  61000.0\n",
      "4   5     0  40.0      NaN\n",
      "5   6     2  35.0  58000.0\n",
      "6   7     1   NaN  52000.0\n",
      "7   8     2  48.0  79000.0\n",
      "8   9     0  50.0  83000.0\n",
      "9  10     2  37.0  67000.0\n"
     ]
    }
   ],
   "source": [
    "# Codificacion de variables categoricas\n",
    "\n",
    "# Se codifica la columna de compras\n",
    "label_encoder_y = LabelEncoder()\n",
    "y = label_encoder_y.fit_transform(y)\n",
    "print(y)\n",
    "print(\"-------------\")\n",
    "\n",
    "# Luego se codifica paises\n",
    "label_encoder_x = LabelEncoder()\n",
    "x.iloc[:, 1] = label_encoder_x.fit_transform(x.values[:, 1])\n",
    "print(x)\n",
    "\n"
   ]
  },
  {
   "cell_type": "code",
   "execution_count": 8,
   "metadata": {},
   "outputs": [
    {
     "name": "stdout",
     "output_type": "stream",
     "text": [
      "[[-1.5666989   1.08347268  0.71993143  0.71101276]\n",
      " [-1.21854359 -0.12038585 -1.62367514 -1.36437583]\n",
      " [-0.87038828 -1.32424438 -1.21009751 -0.84552869]\n",
      " [-0.52223297 -0.12038585 -0.10722383 -0.24020701]\n",
      " [-0.17407766 -1.32424438  0.16849459         nan]\n",
      " [ 0.17407766  1.08347268 -0.52080146 -0.49963059]\n",
      " [ 0.52223297 -0.12038585         nan -1.01847774]\n",
      " [ 0.87038828  1.08347268  1.27136827  1.31633443]\n",
      " [ 1.21854359 -1.32424438  1.54708669  1.66223253]\n",
      " [ 1.5666989   1.08347268 -0.24508304  0.27864014]]\n",
      "---------\n",
      "[[-1.]\n",
      " [ 1.]\n",
      " [-1.]\n",
      " [-1.]\n",
      " [ 1.]\n",
      " [ 1.]\n",
      " [-1.]\n",
      " [ 1.]\n",
      " [-1.]\n",
      " [ 1.]]\n"
     ]
    }
   ],
   "source": [
    "# Transformación de escalas\n",
    "sc_x = StandardScaler()\n",
    "sc_y = StandardScaler()\n",
    "x = sc_x.fit_transform(x)\n",
    "y = sc_y.fit_transform(y.reshape(-1, 1))\n",
    "\n",
    "print(x)\n",
    "print(\"---------\")\n",
    "print(y)"
   ]
  },
  {
   "cell_type": "markdown",
   "metadata": {},
   "source": [
    "##### Nota: Ahora, con los datos preprocesados podemos aplicar algún método predictivo como la Regresión Logística para predecir las compras de algún cliente nuevo, es decir con sus datos en país, edad y salario, estimar si comprará o no."
   ]
  }
 ],
 "metadata": {
  "kernelspec": {
   "display_name": "Python 3",
   "language": "python",
   "name": "python3"
  },
  "language_info": {
   "codemirror_mode": {
    "name": "ipython",
    "version": 3
   },
   "file_extension": ".py",
   "mimetype": "text/x-python",
   "name": "python",
   "nbconvert_exporter": "python",
   "pygments_lexer": "ipython3",
   "version": "3.9.13"
  },
  "orig_nbformat": 4
 },
 "nbformat": 4,
 "nbformat_minor": 2
}
